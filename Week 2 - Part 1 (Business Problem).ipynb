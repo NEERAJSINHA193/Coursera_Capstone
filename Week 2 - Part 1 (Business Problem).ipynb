{
 "cells": [
  {
   "cell_type": "markdown",
   "metadata": {},
   "source": [
    "## Capstone Project Week 2 : \n",
    "\n",
    "### Part 1\n",
    "\n",
    "This submission will eventually become your Introduction/Business Problem section in your final report. So I recommend that you push the report (having your Introduction/Business Problem section only for now) to your Github repository and submit a link to it."
   ]
  },
  {
   "cell_type": "markdown",
   "metadata": {},
   "source": [
    "### Business Problem\n",
    "\n",
    "During this pandemic, almost every organization referring COVID-19 government data to plan out their business activities and also to come out with guidelines for their employees over work from home and re-opening of the workplace. Thus, by considering the importance of government statistics and time of managerial level staff who are involved in planning out business activities and making guidelines, the COVID-19 Statewise Live Status project is made to save manual efforts to some extent and make the required data available on the execution of written code at a single place in tabular as well as graphical forms."
   ]
  },
  {
   "cell_type": "code",
   "execution_count": null,
   "metadata": {},
   "outputs": [],
   "source": []
  }
 ],
 "metadata": {
  "kernelspec": {
   "display_name": "Python 3",
   "language": "python",
   "name": "python3"
  },
  "language_info": {
   "codemirror_mode": {
    "name": "ipython",
    "version": 3
   },
   "file_extension": ".py",
   "mimetype": "text/x-python",
   "name": "python",
   "nbconvert_exporter": "python",
   "pygments_lexer": "ipython3",
   "version": "3.7.6"
  }
 },
 "nbformat": 4,
 "nbformat_minor": 4
}
