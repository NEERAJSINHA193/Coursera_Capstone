{
 "cells": [
  {
   "cell_type": "markdown",
   "metadata": {},
   "source": [
    "## Capstone Project Week 2 : \n",
    "\n",
    "### Part 2\n",
    "\n",
    "This submission will eventually become your Data section in your final report. So I recommend that you push the report (having your Data section) to your Github repository and submit a link to it."
   ]
  },
  {
   "cell_type": "markdown",
   "metadata": {},
   "source": [
    "#### Data\n",
    "\n",
    "* Data is available in its tabular form which needs to be extracted to meet the outcome of the business problem\n",
    "* Data Souce(s) : Ministry of Health and Family Welfare government website : https://www.mohfw.gov.in/\n",
    "\n",
    "\n",
    "\n",
    "#### Methodology\n",
    "\n",
    "Here Web Scraping is used to extract the live COVID-19 statewise status data from \"Ministry of Health and Family Welfare\" website and apply Data Visualization to transform the extracted data into its graphical forms,i.e. Bar and Pie plots."
   ]
  },
  {
   "cell_type": "code",
   "execution_count": null,
   "metadata": {},
   "outputs": [],
   "source": []
  }
 ],
 "metadata": {
  "kernelspec": {
   "display_name": "Python 3",
   "language": "python",
   "name": "python3"
  },
  "language_info": {
   "codemirror_mode": {
    "name": "ipython",
    "version": 3
   },
   "file_extension": ".py",
   "mimetype": "text/x-python",
   "name": "python",
   "nbconvert_exporter": "python",
   "pygments_lexer": "ipython3",
   "version": "3.7.6"
  }
 },
 "nbformat": 4,
 "nbformat_minor": 4
}
